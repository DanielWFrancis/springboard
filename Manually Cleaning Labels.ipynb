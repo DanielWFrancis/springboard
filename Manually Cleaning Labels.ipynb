{
 "cells": [
  {
   "cell_type": "code",
   "execution_count": 1,
   "metadata": {
    "collapsed": false,
    "deletable": true,
    "editable": true
   },
   "outputs": [],
   "source": [
    "from pathlib import Path\n",
    "import os\n",
    "import shutil"
   ]
  },
  {
   "cell_type": "code",
   "execution_count": 2,
   "metadata": {
    "collapsed": true,
    "deletable": true,
    "editable": true
   },
   "outputs": [],
   "source": [
    "def copytree(src, dst, symlinks=False, ignore=None):\n",
    "    for item in os.listdir(src):\n",
    "        s = os.path.join(src, item)\n",
    "        d = os.path.join(dst, item)\n",
    "        if os.path.isdir(s):\n",
    "            shutil.copytree(s, d, symlinks, ignore)\n",
    "        else:\n",
    "            shutil.copy2(s, d)\n",
    "    shutil.rmtree(src)"
   ]
  },
  {
   "cell_type": "code",
   "execution_count": 3,
   "metadata": {
    "collapsed": true,
    "deletable": true,
    "editable": true
   },
   "outputs": [],
   "source": [
    "# remove 'undefined' label\n",
    "\n",
    "shutil.rmtree('new_data/undefined')"
   ]
  },
  {
   "cell_type": "code",
   "execution_count": 4,
   "metadata": {
    "collapsed": false,
    "deletable": true,
    "editable": true
   },
   "outputs": [],
   "source": [
    "# send \"Study for American Capitalism\" to \"Study of American Capitalism\" as the\n",
    "# former has only one document, appears to be a mistake\n",
    "\n",
    "copytree('new_data/Study for American Capitalism','new_data/Study of American Capitalism')"
   ]
  },
  {
   "cell_type": "code",
   "execution_count": 5,
   "metadata": {
    "collapsed": true,
    "deletable": true,
    "editable": true
   },
   "outputs": [],
   "source": [
    "# send \"Nudge\" to \"Nudge Theory\" as the former has only one document, appears to be a mistake\n",
    "\n",
    "copytree('new_data/Nudge','new_data/Nudge Theory')"
   ]
  },
  {
   "cell_type": "code",
   "execution_count": 6,
   "metadata": {
    "collapsed": true,
    "deletable": true,
    "editable": true
   },
   "outputs": [],
   "source": [
    "# send \"Dodd-Frank Act\" to \"Dodd-Frank\" as the former has only one document,\n",
    "# appears to be a mistake\n",
    "\n",
    "copytree('new_data/Dodd-Frank Act','new_data/Dodd-Frank')"
   ]
  },
  {
   "cell_type": "code",
   "execution_count": 7,
   "metadata": {
    "collapsed": true,
    "deletable": true,
    "editable": true
   },
   "outputs": [],
   "source": [
    "# send \"Consumer Finance and Regressive Effects\" to \"Consumer Finance\" as the former \n",
    "# is duplicative of the latter and hasn't had a document in 4+ years, meaning it\n",
    "# will be weeded out later.\n",
    "\n",
    "copytree('new_data/Consumer Finance and Regressive Effects','new_data/Consumer Finance')"
   ]
  },
  {
   "cell_type": "code",
   "execution_count": 8,
   "metadata": {
    "collapsed": false,
    "deletable": true,
    "editable": true
   },
   "outputs": [],
   "source": [
    "# send \"Monetary Theory\" to \"Monetary Policy\" as the former is duplicative of the\n",
    "# latter and does not contain enough documents to be classified and thus will\n",
    "# be removed anyways.\n",
    "\n",
    "copytree('new_data/Monetary Theory','new_data/Monetary Policy')"
   ]
  }
 ],
 "metadata": {
  "anaconda-cloud": {},
  "kernelspec": {
   "display_name": "Python [conda env:python3point6]",
   "language": "python",
   "name": "conda-env-python3point6-py"
  },
  "language_info": {
   "codemirror_mode": {
    "name": "ipython",
    "version": 3
   },
   "file_extension": ".py",
   "mimetype": "text/x-python",
   "name": "python",
   "nbconvert_exporter": "python",
   "pygments_lexer": "ipython3",
   "version": "3.6.1"
  }
 },
 "nbformat": 4,
 "nbformat_minor": 1
}
