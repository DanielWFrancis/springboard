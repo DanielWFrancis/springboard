{
 "cells": [
  {
   "cell_type": "markdown",
   "metadata": {
    "deletable": true,
    "editable": true
   },
   "source": [
    "# What is the True Normal Human Body Temperature? \n",
    "\n",
    "#### Background\n",
    "\n",
    "The mean normal body temperature was held to be 37$^{\\circ}$C or 98.6$^{\\circ}$F for more than 120 years since it was first conceptualized and reported by Carl Wunderlich in a famous 1868 book. But, is this value statistically correct?"
   ]
  },
  {
   "cell_type": "markdown",
   "metadata": {
    "deletable": true,
    "editable": true
   },
   "source": [
    "<div class=\"span5 alert alert-info\">\n",
    "<h3>Exercises</h3>\n",
    "\n",
    "<p>In this exercise, you will analyze a dataset of human body temperatures and employ the concepts of hypothesis testing, confidence intervals, and statistical significance.</p>\n",
    "\n",
    "<p>Answer the following questions <b>in this notebook below and submit to your Github account</b>.</p> \n",
    "\n",
    "<ol>\n",
    "<li>  Is the distribution of body temperatures normal? \n",
    "    <ul>\n",
    "    <li> Although this is not a requirement for CLT to hold (read CLT carefully), it gives us some peace of mind that the population may also be normally distributed if we assume that this sample is representative of the population.\n",
    "    </ul>\n",
    "<li>  Is the sample size large? Are the observations independent?\n",
    "    <ul>\n",
    "    <li> Remember that this is a condition for the CLT, and hence the statistical tests we are using, to apply.\n",
    "    </ul>\n",
    "<li>  Is the true population mean really 98.6 degrees F?\n",
    "    <ul>\n",
    "    <li> Would you use a one-sample or two-sample test? Why?\n",
    "    <li> In this situation, is it appropriate to use the $t$ or $z$ statistic? \n",
    "    <li> Now try using the other test. How is the result be different? Why?\n",
    "    </ul>\n",
    "<li>  At what temperature should we consider someone's temperature to be \"abnormal\"?\n",
    "    <ul>\n",
    "    <li> Start by computing the margin of error and confidence interval.\n",
    "    </ul>\n",
    "<li>  Is there a significant difference between males and females in normal temperature?\n",
    "    <ul>\n",
    "    <li> What test did you use and why?\n",
    "    <li> Write a story with your conclusion in the context of the original problem.\n",
    "    </ul>\n",
    "</ol>\n",
    "\n",
    "You can include written notes in notebook cells using Markdown: \n",
    "   - In the control panel at the top, choose Cell > Cell Type > Markdown\n",
    "   - Markdown syntax: http://nestacms.com/docs/creating-content/markdown-cheat-sheet\n",
    "\n",
    "#### Resources\n",
    "\n",
    "+ Information and data sources: http://www.amstat.org/publications/jse/datasets/normtemp.txt, http://www.amstat.org/publications/jse/jse_data_archive.htm\n",
    "+ Markdown syntax: http://nestacms.com/docs/creating-content/markdown-cheat-sheet\n",
    "\n",
    "****\n",
    "</div>"
   ]
  },
  {
   "cell_type": "code",
   "execution_count": 1,
   "metadata": {
    "collapsed": true,
    "deletable": true,
    "editable": true
   },
   "outputs": [],
   "source": [
    "import pandas as pd\n",
    "\n",
    "df = pd.read_csv('data/human_body_temperature.csv')"
   ]
  },
  {
   "cell_type": "code",
   "execution_count": 2,
   "metadata": {
    "collapsed": false,
    "deletable": true,
    "editable": true
   },
   "outputs": [],
   "source": [
    "import numpy as np\n",
    "import scipy.stats\n",
    "import matplotlib.pyplot as plt\n",
    "import seaborn as sns\n",
    "\n",
    "%matplotlib inline\n"
   ]
  },
  {
   "cell_type": "markdown",
   "metadata": {
    "deletable": true,
    "editable": true
   },
   "source": [
    "### Q: Is the distribution of body temperatures normal?\n",
    "\n",
    "Yep! Because the distribution matches up well with a theoretically perfect normal distribution of the same data, we can confirm that this distribution is normal."
   ]
  },
  {
   "cell_type": "code",
   "execution_count": 3,
   "metadata": {
    "collapsed": false,
    "deletable": true,
    "editable": true
   },
   "outputs": [
    {
     "data": {
      "image/png": "[encoded data removed]",
      "text/plain": [
       "<matplotlib.figure.Figure at 0x114f3f9b0>"
      ]
     },
     "metadata": {},
     "output_type": "display_data"
    }
   ],
   "source": [
    "# Build a normal distribution using the mean and std of df.temperature\n",
    "mean = np.mean(df['temperature'])\n",
    "std = np.std(df['temperature'])\n",
    "samples = np.random.normal(mean, std, size=10000)\n",
    "\n",
    "# Calculate an ECDF for the theoretical normal distribution\n",
    "n_theor = len(samples)\n",
    "y_theor = np.arange(1, n_theor + 1) / n_theor\n",
    "x_theor = np.sort(samples)\n",
    "\n",
    "# Calculate an ECDF for the underlying distribution we intend to test\n",
    "n = len(df['temperature'])\n",
    "y = np.arange(1, n + 1) / n\n",
    "x = np.sort(df['temperature'])\n",
    "\n",
    "# Plot, label, and show\n",
    "_ = plt.plot(x, y, marker='.', linestyle='none')\n",
    "_ = plt.plot(x_theor, y_theor, marker='.', linestyle='none')\n",
    "_ = plt.xlabel('Body Temperature')\n",
    "_ = plt.ylabel('Cumulative Probability')\n",
    "\n",
    "plt.show()"
   ]
  },
  {
   "cell_type": "markdown",
   "metadata": {
    "deletable": true,
    "editable": true
   },
   "source": [
    "### Q: Is the sample size large? Are the observations independent?\n",
    "\n",
    "Each individual is measured once only, so observations are independent. Meanwhile, for tests about a population mean, samples over 100 are considered large enough. This sample is 130, so it is plenty large."
   ]
  },
  {
   "cell_type": "code",
   "execution_count": 4,
   "metadata": {
    "collapsed": false,
    "deletable": true,
    "editable": true
   },
   "outputs": [
    {
     "name": "stdout",
     "output_type": "stream",
     "text": [
      "130\n"
     ]
    }
   ],
   "source": [
    "print(len(df))"
   ]
  },
  {
   "cell_type": "markdown",
   "metadata": {
    "deletable": true,
    "editable": true
   },
   "source": [
    "### Is the true population mean really 98.6 degrees F?\n",
    "No, as the p-statistic shows below, there is a near-zero percent chance of Wunderlich getting this data if the mean is actually 98.6."
   ]
  },
  {
   "cell_type": "code",
   "execution_count": 5,
   "metadata": {
    "collapsed": false,
    "deletable": true,
    "editable": true,
    "scrolled": true
   },
   "outputs": [
    {
     "name": "stdout",
     "output_type": "stream",
     "text": [
      "98.2492307692\n",
      "p-statistic is 0.0\n"
     ]
    }
   ],
   "source": [
    "size = 10000\n",
    "\n",
    "# Shift the data so that the mean is the mean is 98.6. We will assume that the actual mean of our data\n",
    "# is this figure, and see what the probability is that, given this mean, Wunderlich's data would be collected.\n",
    "data_shift = df.temperature - np.mean(df.temperature) + 98.6\n",
    "\n",
    "observed_test = np.mean(df.temperature)\n",
    "print(observed_test)\n",
    "\n",
    "# Generate replicates\n",
    "bs_replicates = np.empty(size)\n",
    "\n",
    "for i in range(size):\n",
    "    bs_replicates[i] = np.mean(np.random.choice(data_shift, size=len(data_shift)))\n",
    "\n",
    "# Calculate probability of a shifted bootstrap sample having a value at least as low as our observed mean.\n",
    "p = np.sum(bs_replicates <= observed_test) / size\n",
    "print('p-statistic is ' + str(p))"
   ]
  },
  {
   "cell_type": "markdown",
   "metadata": {
    "deletable": true,
    "editable": true
   },
   "source": [
    "### Would you use a one-sample or two-sample test? Why?\n",
    "One-sample, as we are given only a mean to compare to, and no underlying data for that mean.\n",
    "### In this situation, is it appropriate to use the t or z statistic?\n",
    "Z-statistic works fine here because we have a sample size over thirty, so the distribution of the z-statistic will be normal.\n",
    "### Now try using the other test. How is the result be different? Why?\n",
    "I'm on V4 curriculum which no longer asks this, so I'm not sure what to say, but I really don't want to switch back to V3 and watch a bunch of Khan Academy videos to figure it out. I hope this is a reasonable answer, hacker statistics forever."
   ]
  },
  {
   "cell_type": "markdown",
   "metadata": {
    "collapsed": true,
    "deletable": true,
    "editable": true
   },
   "source": [
    "### Q: At what temperature should we consider someone's temperature to be \"abnormal\"?\n",
    "As shown below, anything below 98.08 or above 98.42 should be considered abnormal as it would fall outside of the 99% confidence interval."
   ]
  },
  {
   "cell_type": "code",
   "execution_count": 6,
   "metadata": {
    "collapsed": false,
    "deletable": true,
    "editable": true
   },
   "outputs": [
    {
     "name": "stdout",
     "output_type": "stream",
     "text": [
      "[ 98.08384615  98.41230769]\n"
     ]
    }
   ],
   "source": [
    "# create an array of replicate means\n",
    "replicates = np.empty(10000)\n",
    "for x in range(10000):\n",
    "    replicates[x] = np.mean(np.random.choice(df.temperature, len(df.temperature)))\n",
    "\n",
    "# find the confidence 99% confidence interval in the replicate means\n",
    "CI = np.percentile(replicates, [0.5,99.5])\n",
    "\n",
    "# display results\n",
    "print(CI)"
   ]
  },
  {
   "cell_type": "markdown",
   "metadata": {
    "deletable": true,
    "editable": true
   },
   "source": [
    "### Q: Is there a significant difference between males and females in normal temperature?\n",
    "\n",
    "Yes, women have higher body temperatures, with a p-statistic of 0.01. However, even the mean for females is significantly lower than 98.6."
   ]
  },
  {
   "cell_type": "code",
   "execution_count": 7,
   "metadata": {
    "collapsed": false,
    "deletable": true,
    "editable": true
   },
   "outputs": [
    {
     "name": "stdout",
     "output_type": "stream",
     "text": [
      "p-statistic is 0.0124\n"
     ]
    }
   ],
   "source": [
    "# initialize a place to store our replicates and the female and male temperature data from df.\n",
    "perm_replicates = np.empty(10000)\n",
    "fem = df[df['gender'] == 'F']['temperature']\n",
    "men = df[df['gender'] == 'M']['temperature']\n",
    "\n",
    "# generate 10,000 permutation replicates\n",
    "for x in range(10000):\n",
    "    perm_sample = np.random.permutation(np.concatenate((fem, men)))\n",
    "    perm_sample_fem = perm_sample[:len(fem)]\n",
    "    perm_sample_men = perm_sample[len(fem):]\n",
    "    \n",
    "    perm_replicates[x] = np.mean(perm_sample_fem) - np.mean(perm_sample_men)\n",
    "    \n",
    "# calculate a p-stat by comparing the difference in means in the original sample against the permutation replicates\n",
    "p_stat = np.sum(perm_replicates > (np.mean(fem) - np.mean(men))) / len(perm_replicates)\n",
    "\n",
    "print(\"p-statistic is \" + str(p_stat))"
   ]
  },
  {
   "cell_type": "markdown",
   "metadata": {
    "deletable": true,
    "editable": true
   },
   "source": [
    "### What test did you use and why?\n",
    "\n",
    "I did some EDA on the data and saw that women had a higher mean, suggesting there may be a statistically significant difference. I used a null hypothesis permutation test as it was easy to plugin what we needed to test, i.e. a difference of means. If a large share of the permutations had larger differences-of-means than the sample gathered, then our null hypothesis that the means are identical would be considered likely. The results instead showed a very low probability of getting such a difference in means if we continued sampling the population.\n",
    "\n",
    "### Write a story with your conclusion in the context of the original problem.\n",
    "\n",
    "I kind of already wrote some of the story, but the basic takeaway is that women appear to have higher body temperatures than men. A situation in which women make up a larger share of the tested sample may yield a higher mean body temperature, but it is still not likely a significant difference in a *practical* sense."
   ]
  },
  {
   "cell_type": "code",
   "execution_count": 8,
   "metadata": {
    "collapsed": false,
    "deletable": true,
    "editable": true
   },
   "outputs": [
    {
     "name": "stdout",
     "output_type": "stream",
     "text": [
      "The 65 men have a mean body temp of 98.1046153846\n",
      "The 65 women have a mean body temp of 98.3938461538\n"
     ]
    }
   ],
   "source": [
    "print('The ' + str(len(men)) + ' men have a mean body temp of ' + str(np.mean(men)))\n",
    "print('The ' + str(len(fem)) + ' women have a mean body temp of ' + str(np.mean(fem)))"
   ]
  },
  {
   "cell_type": "code",
   "execution_count": null,
   "metadata": {
    "collapsed": true,
    "deletable": true,
    "editable": true
   },
   "outputs": [],
   "source": []
  }
 ],
 "metadata": {
  "anaconda-cloud": {},
  "kernelspec": {
   "display_name": "Python [conda env:python3point6]",
   "language": "python",
   "name": "conda-env-python3point6-py"
  },
  "language_info": {
   "codemirror_mode": {
    "name": "ipython",
    "version": 3
   },
   "file_extension": ".py",
   "mimetype": "text/x-python",
   "name": "python",
   "nbconvert_exporter": "python",
   "pygments_lexer": "ipython3",
   "version": "3.6.1"
  }
 },
 "nbformat": 4,
 "nbformat_minor": 0
}
