{
 "cells": [
  {
   "cell_type": "markdown",
   "metadata": {
    "deletable": true,
    "editable": true
   },
   "source": [
    "# Examining Racial Discrimination in the US Job Market\n",
    "\n",
    "### Background\n",
    "Racial discrimination continues to be pervasive in cultures throughout the world. Researchers examined the level of racial discrimination in the United States labor market by randomly assigning identical résumés to black-sounding or white-sounding names and observing the impact on requests for interviews from employers.\n",
    "\n",
    "### Data\n",
    "In the dataset provided, each row represents a resume. The 'race' column has two values, 'b' and 'w', indicating black-sounding and white-sounding. The column 'call' has two values, 1 and 0, indicating whether the resume received a call from employers or not.\n",
    "\n",
    "Note that the 'b' and 'w' values in race are assigned randomly to the resumes when presented to the employer."
   ]
  },
  {
   "cell_type": "markdown",
   "metadata": {
    "deletable": true,
    "editable": true
   },
   "source": [
    "<div class=\"span5 alert alert-info\">\n",
    "### Exercises\n",
    "You will perform a statistical analysis to establish whether race has a significant impact on the rate of callbacks for resumes.\n",
    "\n",
    "Answer the following questions **in this notebook below and submit to your Github account**. \n",
    "\n",
    "   1. What test is appropriate for this problem? Does CLT apply?\n",
    "   2. What are the null and alternate hypotheses?\n",
    "   3. Compute margin of error, confidence interval, and p-value.\n",
    "   4. Write a story describing the statistical significance in the context or the original problem.\n",
    "   5. Does your analysis mean that race/name is the most important factor in callback success? Why or why not? If not, how would you amend your analysis?\n",
    "\n",
    "You can include written notes in notebook cells using Markdown: \n",
    "   - In the control panel at the top, choose Cell > Cell Type > Markdown\n",
    "   - Markdown syntax: http://nestacms.com/docs/creating-content/markdown-cheat-sheet\n",
    "\n",
    "\n",
    "#### Resources\n",
    "+ Experiment information and data source: http://www.povertyactionlab.org/evaluation/discrimination-job-market-united-states\n",
    "+ Scipy statistical methods: http://docs.scipy.org/doc/scipy/reference/stats.html \n",
    "+ Markdown syntax: http://nestacms.com/docs/creating-content/markdown-cheat-sheet\n",
    "</div>\n",
    "****"
   ]
  },
  {
   "cell_type": "code",
   "execution_count": 46,
   "metadata": {
    "collapsed": false,
    "deletable": true,
    "editable": true
   },
   "outputs": [],
   "source": [
    "import pandas as pd\n",
    "import numpy as np\n",
    "from scipy import stats\n",
    "import matplotlib.pyplot as plt\n",
    "%matplotlib inline"
   ]
  },
  {
   "cell_type": "code",
   "execution_count": 2,
   "metadata": {
    "collapsed": false,
    "deletable": true,
    "editable": true
   },
   "outputs": [],
   "source": [
    "data = pd.io.stata.read_stata('data/us_job_market_discrimination.dta')"
   ]
  },
  {
   "cell_type": "code",
   "execution_count": 90,
   "metadata": {
    "collapsed": false,
    "deletable": true,
    "editable": true
   },
   "outputs": [
    {
     "name": "stdout",
     "output_type": "stream",
     "text": [
      "In our sample, resumes with white names are 40% more likely to get a callback than resumes with black names.\n"
     ]
    }
   ],
   "source": [
    "# percentage of callbacks for black-sounding names\n",
    "cb_rate_b = len(data[(data.race=='b') & (data.call==1.0)]) / len(data[data.race == 'b'])\n",
    "\n",
    "# percentage of callbacks for white-sounding names\n",
    "cb_rate_w = len(data[(data.race=='w') & (data.call==1.0)]) / len(data[data.race == 'w'])\n",
    "\n",
    "# percentage difference\n",
    "percent_diff = str(int(cb_rate_b / (cb_rate_w + cb_rate_b) * 100)) + '%'\n",
    "\n",
    "print('In our sample, resumes with white names are ' + percent_diff + ' more likely '\n",
    "      'to get a callback than resumes with black names.')"
   ]
  },
  {
   "cell_type": "markdown",
   "metadata": {
    "collapsed": true,
    "deletable": true,
    "editable": true
   },
   "source": [
    "### What test is appropriate for this problem? Does CLT apply?\n",
    "I'll be using a two-sample bootstrap hypothesis test for difference of means. The mean is an accurate proxy for callback rate, as the `data.call` column is boolean.\n",
    "\n",
    "I'm on V4, which seems to cover CLT much less (hacker statistics being slightly less theoretical in that way) but, a quick look at the histogram below shows the CLT at work. "
   ]
  },
  {
   "cell_type": "markdown",
   "metadata": {
    "deletable": true,
    "editable": true
   },
   "source": [
    "### What are the null and alternate hypotheses?\n",
    "My test statistic is the difference in callback-rates, which I refer to as the callback-rate differential. My null hypothesis is that this differential is equal to zero, and my alternative hypothesis is that it is larger than zero."
   ]
  },
  {
   "cell_type": "markdown",
   "metadata": {
    "deletable": true,
    "editable": true
   },
   "source": [
    "\n",
    "### Compute margin of error, confidence interval, and p-value.\n",
    "Below is the margin of error and confidence interval for the callback-rate differential, and then a hypothesis test using the null hypothesis that the callback-rate for black is as high as for whites."
   ]
  },
  {
   "cell_type": "code",
   "execution_count": 83,
   "metadata": {
    "collapsed": false,
    "deletable": true,
    "editable": true
   },
   "outputs": [
    {
     "name": "stdout",
     "output_type": "stream",
     "text": [
      "The callback-rate differential in the sample is 0.032032854209445585\n",
      "The 95% confidence interval for this statistic is [ 0.01683778  0.04722793]\n",
      "The margin of error is 0.0151950718686\n"
     ]
    }
   ],
   "source": [
    "replicates = np.empty(10000)\n",
    "\n",
    "b = data[(data.race=='b')].call\n",
    "w = data[(data.race=='w')].call\n",
    "\n",
    "def cb_rate_diff(series1, series2):\n",
    "    return (len(series1[series1 == 1.0]) / len(series1)) - (len(series2[series2 == 1.0]) / len(series2))\n",
    "\n",
    "samp_b_cb = cb_rate_diff(w, b)\n",
    "\n",
    "for i in range(10000):\n",
    "    perm_b = np.random.choice(b, len(b))\n",
    "    perm_w = np.random.choice(w, len(w))\n",
    "    \n",
    "    replicates[i] = cb_rate_diff(perm_w, perm_b)\n",
    "    \n",
    "conf_int = np.percentile(replicates, [2.5,97.5])\n",
    "print('The callback-rate differential in the sample is ' + str(samp_b_cb))\n",
    "print('The 95% confidence interval for this statistic is ' + str(conf_int))\n",
    "print('The margin of error is ' + str((conf_int[1] - conf_int[0]) / 2))"
   ]
  },
  {
   "cell_type": "code",
   "execution_count": 84,
   "metadata": {
    "collapsed": false,
    "deletable": true,
    "editable": true,
    "scrolled": true
   },
   "outputs": [
    {
     "name": "stdout",
     "output_type": "stream",
     "text": [
      "Our original sample had a callback-rate differential of 0.0320329\n",
      "Our p-value = 0.0\n",
      "This reflects a very low probability of getting a callback-rate differential this large if the population callback-rate differential were truly zero.\n"
     ]
    }
   ],
   "source": [
    "bs_replicates_b = np.empty(10000)\n",
    "bs_replicates_w = np.empty(10000)\n",
    "\n",
    "b = data[(data.race=='b')].call\n",
    "w = data[(data.race=='w')].call\n",
    "\n",
    "# Compute mean callback-rate for both races.\n",
    "mean_cb = np.mean(np.concatenate((b, w)))\n",
    "\n",
    "# Generate shifted arrays from mean_cb.\n",
    "b_shifted = b - np.mean(b) + mean_cb\n",
    "w_shifted = w - np.mean(w) + mean_cb \n",
    "\n",
    "# Compute 10,000 bootstrap replicates for each shifted array.\n",
    "for i in range(10000):\n",
    "    bootstrap_b = np.random.choice(b_shifted, size=len(b))\n",
    "    bootstrap_w = np.random.choice(w_shifted, size=len(w))\n",
    "    \n",
    "    bs_replicates_b[i] = np.mean(bootstrap_b)\n",
    "    bs_replicates_w[i] = np.mean(bootstrap_w)\n",
    "\n",
    "# Get replicates of difference of means.\n",
    "bs_replicates = bs_replicates_w - bs_replicates_b\n",
    "\n",
    "# Compute and print p-value and some analysis.\n",
    "p = np.sum(bs_replicates >= (np.mean(w) - np.mean(b))) / 10000\n",
    "\n",
    "print('Our original sample had a callback-rate differential of ' + str(np.mean(w) - np.mean(b)))\n",
    "print('Our p-value = ' + str(p))\n",
    "print('This reflects a very low probability of getting a callback-rate differential this large if '\n",
    "      'the population callback-rate differential were truly zero.')"
   ]
  },
  {
   "cell_type": "markdown",
   "metadata": {
    "deletable": true,
    "editable": true
   },
   "source": [
    "### Write a story describing the statistical significance in the context or the original problem."
   ]
  },
  {
   "cell_type": "code",
   "execution_count": 82,
   "metadata": {
    "collapsed": false,
    "deletable": true,
    "editable": true
   },
   "outputs": [
    {
     "data": {
      "image/png": "[encoded data removed]",
      "text/plain": [
       "<matplotlib.figure.Figure at 0x11e733cf8>"
      ]
     },
     "metadata": {},
     "output_type": "display_data"
    }
   ],
   "source": [
    "plt.hist(bs_replicates, normed=True)\n",
    "None"
   ]
  },
  {
   "cell_type": "markdown",
   "metadata": {
    "deletable": true,
    "editable": true
   },
   "source": [
    "I'm fascinated by these ultra-low p-values and how to interpret them. What I did above is shift the callback rates for whites and blacks so that their means were equal and, from this hypothetical 'population' where racial bias did not come into play, I calculated the odds of getting a callback-rate differential as large as 0.032. \n",
    "\n",
    "As can be seen in this histogram, we get zero samples that have a callback-rate differential this large. This suggests that our finding that individuals with black-sounding names are *significantly* less likely to get a callback from submitting a resume is indeed significantly significant and unlikely to be the result of random sampling error."
   ]
  },
  {
   "cell_type": "markdown",
   "metadata": {
    "deletable": true,
    "editable": true
   },
   "source": [
    "### Does your analysis mean that race/name is the most important factor in callback success? Why or why not? If not, how would you amend your analysis?"
   ]
  },
  {
   "cell_type": "markdown",
   "metadata": {
    "deletable": true,
    "editable": true
   },
   "source": [
    "No. This question compares the effect of race/name with other factors that can affect callback, but we have only tested race. To find out the most important factor, we would have to repeat this process for every factor listed in our table. Given the presence of 65 columns, it is likely that some other factor (such as years experience or education) may play a more dominant role."
   ]
  }
 ],
 "metadata": {
  "anaconda-cloud": {},
  "kernelspec": {
   "display_name": "Python [conda env:python3point6]",
   "language": "python",
   "name": "conda-env-python3point6-py"
  },
  "language_info": {
   "codemirror_mode": {
    "name": "ipython",
    "version": 3
   },
   "file_extension": ".py",
   "mimetype": "text/x-python",
   "name": "python",
   "nbconvert_exporter": "python",
   "pygments_lexer": "ipython3",
   "version": "3.6.1"
  }
 },
 "nbformat": 4,
 "nbformat_minor": 0
}
